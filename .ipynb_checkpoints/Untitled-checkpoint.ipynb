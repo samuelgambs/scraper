{
 "cells": [
  {
   "cell_type": "code",
   "execution_count": 2,
   "id": "d94ecca8",
   "metadata": {},
   "outputs": [],
   "source": [
    "from judicial.models import Process, PartiesInvolved, PartiesInvolvedProcess\n",
    "from bs4 import BeautifulSoup\n",
    "from lxml import html, etree\n",
    "from io import StringIO, BytesIO\n"
   ]
  },
  {
   "cell_type": "code",
   "execution_count": 4,
   "id": "ec15d854",
   "metadata": {},
   "outputs": [],
   "source": [
    "import os\n",
    "import django\n",
    "os.environ.setdefault('DJANGO_SETTINGS_MODULE', 'rest.settings')\n",
    "os.environ[\"DJANGO_ALLOW_ASYNC_UNSAFE\"] = \"true\"\n",
    "django.setup()"
   ]
  },
  {
   "cell_type": "code",
   "execution_count": 6,
   "id": "29f5f8f3",
   "metadata": {},
   "outputs": [],
   "source": [
    "with open(r'processo-01.html', \"r\") as f:\n",
    "    page = f.read()\n",
    "tree = html.fromstring(page)\n",
    "\n",
    "r = tree.xpath('/html/body/div/div[1]/div/h4[1]/text()')\n",
    "process_number = r[0]\n",
    "\n",
    "process_class = tree.xpath('/html/body/div/div[2]/div[1]/span/text()')\n",
    "process_class = process_class[0]\n",
    "\n",
    "process_subject = tree.xpath('/html/body/div/div[2]/div[3]/span/text()')\n",
    "process_subject = process_subject[0]\n",
    "\n",
    "process_judge = tree.xpath('/html/body/div/div[3]/div[1]/span/text()')\n",
    "process_judge = process_judge[0]\n",
    "\n",
    "person_1  = tree.xpath('/html/body/div/div[4]/div/ul/li[1]/span[1]/text()[1]')\n",
    "person_1 = person_1[0]\n",
    "\n",
    "person_1_category = tree.xpath('/html/body/div/div[4]/div/ul/li[1]/span[2]/text()')\n",
    "person_1_category = person_1_category[0]\n",
    "\n",
    "person_2 = tree.xpath('/html/body/div/div[4]/div/ul/li[2]/span[1]/text()')\n",
    "person_2 = person_2[0]\n",
    "\n",
    "person_2_category = tree.xpath('/html/body/div/div[4]/div/ul/li[2]/span[2]/text()')\n",
    "person_2_category = person_2_category[0]\n",
    "\n",
    "part = PartiesInvolved.objects.create(name=str(person_1), category=str(person_1_category))\n",
    "process = Process.objects.create(\n",
    "    process_number=str(process_number), process_class=process_class, subject=process_subject, judge=process_judge)\n",
    "\n",
    "part_process = PartiesInvolvedProcess.objects.create(process=process,parties_involved=part)\n",
    "\n"
   ]
  },
  {
   "cell_type": "code",
   "execution_count": 67,
   "id": "899ecb86",
   "metadata": {},
   "outputs": [
    {
     "name": "stdout",
     "output_type": "stream",
     "text": [
      "\n",
      "                1004030-81.2016.0.00.0008\n",
      "\n",
      "                 \n",
      "                 Execução de Título Extrajudicial Locação de Imóvel Mariana \n",
      "                        Eduardo Amoroso\n",
      "                         INVESTIGADO \n",
      "                        Daniele Caldas\n",
      "                         \n",
      "\n",
      "                        EXECUTADA\n",
      "\n",
      "                    \n"
     ]
    }
   ],
   "source": [
    "# print(soup.prettify())\n",
    "\n",
    "print(process_number, process_class, process_subject, process_judge, person_1, person_1_category, person_2, person_2_category)\n",
    "\n"
   ]
  },
  {
   "cell_type": "code",
   "execution_count": null,
   "id": "3e3a5453",
   "metadata": {},
   "outputs": [],
   "source": []
  },
  {
   "cell_type": "code",
   "execution_count": 14,
   "id": "62d19c3f",
   "metadata": {},
   "outputs": [
    {
     "data": {
      "text/plain": [
       "[<h4 class=\"mr-auto\">\n",
       "                 1004030-81.2016.0.00.0008\n",
       " \n",
       "                  \n",
       "                 <span class=\"badge badge-sm badge-info\">\n",
       "                     Ativo\n",
       "                 </span>\n",
       " </h4>,\n",
       " <h4>\n",
       " <span class=\"badge badge-secondary\">suspenso</span> \n",
       " \n",
       " \n",
       " \n",
       "                 <span class=\"badge badge-primary\">Digital</span>\n",
       " </h4>,\n",
       " <h4 class=\"text-muted\">Partes do processo</h4>,\n",
       " <h4 class=\"text-muted\">Movimentações</h4>,\n",
       " <h4 class=\"text-muted\">Incidentes, Ações Incidentais, Recursos e Execuções de Sentenças</h4>,\n",
       " <h4 class=\"text-muted\">Apensos, Entranhados e Unificados</h4>,\n",
       " <h4 class=\"text-muted\">Audiências</h4>]"
      ]
     },
     "execution_count": 14,
     "metadata": {},
     "output_type": "execute_result"
    }
   ],
   "source": [
    "soup.find_all(\"h4\")\n"
   ]
  }
 ],
 "metadata": {
  "kernelspec": {
   "display_name": "Django Shell-Plus",
   "language": "python",
   "name": "django_extensions"
  },
  "language_info": {
   "codemirror_mode": {
    "name": "ipython",
    "version": 3
   },
   "file_extension": ".py",
   "mimetype": "text/x-python",
   "name": "python",
   "nbconvert_exporter": "python",
   "pygments_lexer": "ipython3",
   "version": "3.9.7"
  }
 },
 "nbformat": 4,
 "nbformat_minor": 5
}
